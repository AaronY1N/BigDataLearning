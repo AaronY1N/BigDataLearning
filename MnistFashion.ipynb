{
  "nbformat": 4,
  "nbformat_minor": 0,
  "metadata": {
    "colab": {
      "name": "MnistFashion.ipynb",
      "provenance": [],
      "collapsed_sections": [],
      "authorship_tag": "ABX9TyO10O/3uJQ/DD9YphazJp49",
      "include_colab_link": true
    },
    "kernelspec": {
      "name": "python3",
      "display_name": "Python 3"
    },
    "language_info": {
      "name": "python"
    }
  },
  "cells": [
    {
      "cell_type": "markdown",
      "metadata": {
        "id": "view-in-github",
        "colab_type": "text"
      },
      "source": [
        "<a href=\"https://colab.research.google.com/github/AaronY1N/Python-Case/blob/main/MnistFashion.ipynb\" target=\"_parent\"><img src=\"https://colab.research.google.com/assets/colab-badge.svg\" alt=\"Open In Colab\"/></a>"
      ]
    },
    {
      "cell_type": "markdown",
      "source": [
        "先將數據導入(因為mnist已經存放在tensorflow中)所以很方便\n",
        "並且使用load_data->將資料分成training/testing兩大部分(格式是2維陣列)\n",
        "* 總共70000筆資料分成60000筆training/10000筆testing"
      ],
      "metadata": {
        "id": "InbXL72sARUK"
      }
    },
    {
      "cell_type": "code",
      "execution_count": null,
      "metadata": {
        "id": "nCkq5jD--qJK"
      },
      "outputs": [],
      "source": [
        "import tensorflow as tf\n",
        "import numpy as np\n",
        "import matplotlib.pyplot as plt\n",
        "np.set_printoptions(linewidth=200)\n",
        "\n",
        "mnist = tf.keras.datasets.fashion_mnist\n",
        "\n",
        "(training_images, training_labels), (test_images, test_labels) = mnist.load_data()\n",
        "plt.imshow(training_images[0])\n",
        "print(training_labels[0])\n",
        "print(training_images[0])"
      ]
    },
    {
      "cell_type": "markdown",
      "source": [
        "Normalize:正規化->因為發現所有的值落在1到255所以/255讓所有的值出現在0到1之間\n",
        "可以讓出現的結果就以0~1結論,如果不做的話,誤差會變大"
      ],
      "metadata": {
        "id": "uQQarHg4_CRY"
      }
    },
    {
      "cell_type": "code",
      "source": [
        "training_images  = training_images / 255.0\n",
        "test_images = test_images / 255.0"
      ],
      "metadata": {
        "id": "Skobqv1e_xYb"
      },
      "execution_count": null,
      "outputs": []
    },
    {
      "cell_type": "markdown",
      "source": [
        "\n",
        "\n",
        "*   第一層是用Flatten將數據扁平化(降低維度)\n",
        "*   Dense第一層128可以更改，是指Neural的個數relu運算\n",
        "\n",
        "\n",
        "*   Dense第二層10是因為Class總共有10種分類用softmax運算\n",
        "\n",
        "\n",
        "\n"
      ],
      "metadata": {
        "id": "ydVnDkKlDBBO"
      }
    },
    {
      "cell_type": "code",
      "source": [
        "model = tf.keras.models.Sequential([tf.keras.layers.Flatten(), \n",
        "                                    tf.keras.layers.Dense(128, activation=tf.nn.relu), \n",
        "                                    tf.keras.layers.Dense(10, activation=tf.nn.softmax)])"
      ],
      "metadata": {
        "id": "7x6EJS-cAyNI"
      },
      "execution_count": null,
      "outputs": []
    },
    {
      "cell_type": "markdown",
      "source": [
        "\n",
        "\n",
        "*   Optimizer來選擇優化方式，這裡採用Adam\n",
        "*   loss function的計算是用crossentropy\n",
        "\n",
        "\n",
        "*   epochs是更新次數，這裡不用batch來說明,所以update次數=epochs\n",
        "\n",
        "*   accuracy是精準度，用百分比表示89%準確率\n",
        "\n",
        "\n",
        "\n",
        "\n",
        "\n"
      ],
      "metadata": {
        "id": "jIxL-c_kEN-C"
      }
    },
    {
      "cell_type": "code",
      "source": [
        "model.compile(optimizer = tf.optimizers.Adam(),\n",
        "              loss = 'sparse_categorical_crossentropy',\n",
        "              metrics=['accuracy'])\n",
        "\n",
        "model.fit(training_images, training_labels, epochs=5)"
      ],
      "metadata": {
        "id": "g6HKLyIdERev"
      },
      "execution_count": null,
      "outputs": []
    },
    {
      "cell_type": "markdown",
      "source": [
        "將機器訓練完畢後再拿測試資料進行對照(假設一些未知資料讓機器測試)\n",
        "測試結果的準度再86%表示對於已知資料的準確度有89%但在沒看過的資料準度在86%"
      ],
      "metadata": {
        "id": "o7JGgSapER5l"
      }
    },
    {
      "cell_type": "code",
      "source": [
        "model.evaluate(test_images, test_labels)"
      ],
      "metadata": {
        "id": "s8bNVc7RER-y"
      },
      "execution_count": null,
      "outputs": []
    },
    {
      "cell_type": "markdown",
      "source": [
        "將訓練好的model放進classifications並用0號圖片進行預測\n",
        "顯示的結果是指這張圖片對於10個class個別的表現"
      ],
      "metadata": {
        "id": "y30AzhOdESEE"
      }
    },
    {
      "cell_type": "code",
      "source": [
        "classifications = model.predict(test_images)\n",
        "\n",
        "print(classifications[0])"
      ],
      "metadata": {
        "id": "4XamlEbfESJU"
      },
      "execution_count": null,
      "outputs": []
    },
    {
      "cell_type": "markdown",
      "source": [
        "最後將測試對應的label顯示，可以從classifications當中找出最大值就是判別的class"
      ],
      "metadata": {
        "id": "jYNhSDN6Gq2c"
      }
    },
    {
      "cell_type": "code",
      "source": [
        "print(test_labels[0])"
      ],
      "metadata": {
        "colab": {
          "base_uri": "https://localhost:8080/"
        },
        "id": "EOVcvriKGrJq",
        "outputId": "098eb212-8ada-4655-d37a-e5fb5d305361"
      },
      "execution_count": null,
      "outputs": [
        {
          "output_type": "stream",
          "name": "stdout",
          "text": [
            "2\n"
          ]
        }
      ]
    }
  ]
}